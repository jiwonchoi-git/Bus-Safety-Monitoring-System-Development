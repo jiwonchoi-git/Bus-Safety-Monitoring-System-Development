{
 "cells": [
  {
   "cell_type": "markdown",
   "id": "6dfd3323",
   "metadata": {},
   "source": [
    "## mmdetection에서 albu 라이브러리 적용하는 방법\n",
    "    - retinanet_18 기준인데 우리는 faster_rcnn으로 바꿨음"
   ]
  },
  {
   "cell_type": "markdown",
   "id": "461404f1",
   "metadata": {},
   "source": [
    "### 1. mmdetection > configs > base > datasets > mybus.py을 생성"
   ]
  },
  {
   "attachments": {
    "image.png": {
     "image/png": "[encoded data removed]"
    }
   },
   "cell_type": "markdown",
   "id": "245bfe71",
   "metadata": {},
   "source": [
    "### 2. 데이터 세팅하기\n",
    "![image.png](attachment:image.png)"
   ]
  },
  {
   "cell_type": "code",
   "execution_count": 9,
   "id": "8612191d",
   "metadata": {},
   "outputs": [],
   "source": [
    "dataset_type = 'CocoDataset'\n",
    "data_root = '데이터셋 경로. 예시: data/' #이미지 파일이랑 json 파일이 같은 폴더에 있어야 함, 위에 사진처럼.\n",
    "backend_args = None #데이터셋 파일 로딩을 위한 백엔드 설정. 현재는 사용되지 않으므로 None으로 설정\n",
    "img_norm_cfg = dict(\n",
    "    mean=[123.675, 116.28, 103.53], std=[58.395, 57.12, 57.375], to_rgb=True)"
   ]
  },
  {
   "cell_type": "code",
   "execution_count": null,
   "id": "0e4da181",
   "metadata": {},
   "outputs": [],
   "source": [
    "_base_ = '../faster_rcnn/faster_rcnn_r50_fpn_1x_coco.py' #이거 faster rcnn 으로 설정\n",
    "\n",
    "albu_train_transforms = [\n",
    "    dict(\n",
    "        type='ShiftScaleRotate',\n",
    "        shift_limit=0.0625,\n",
    "        scale_limit=0.0,\n",
    "        rotate_limit=0,\n",
    "        interpolation=1,\n",
    "        p=0.5),\n",
    "    dict(\n",
    "        type='RandomBrightnessContrast',\n",
    "        brightness_limit=[0.1, 0.3],\n",
    "        contrast_limit=[0.1, 0.3],\n",
    "        p=0.2),\n",
    "    dict(\n",
    "        type='OneOf',\n",
    "        transforms=[\n",
    "            dict(\n",
    "                type='RGBShift',\n",
    "                r_shift_limit=10,\n",
    "                g_shift_limit=10,\n",
    "                b_shift_limit=10,\n",
    "                p=1.0),\n",
    "            dict(\n",
    "                type='HueSaturationValue',\n",
    "                hue_shift_limit=20,\n",
    "                sat_shift_limit=30,\n",
    "                val_shift_limit=20,\n",
    "                p=1.0)\n",
    "        ],\n",
    "        p=0.1),\n",
    "    dict(type='JpegCompression', quality_lower=85, quality_upper=95, p=0.2),\n",
    "    dict(type='ChannelShuffle', p=0.1),\n",
    "    dict(\n",
    "        type='OneOf',\n",
    "        transforms=[\n",
    "            dict(type='Blur', blur_limit=3, p=1.0),\n",
    "            dict(type='MedianBlur', blur_limit=3, p=1.0)\n",
    "        ],\n",
    "        p=0.1),\n",
    "]\n",
    "train_pipeline = [\n",
    "    dict(type='LoadImageFromFile'),\n",
    "    dict(type='LoadAnnotations', with_bbox=True, with_mask=True),\n",
    "    dict(type='Resize', img_scale=(1333, 800), keep_ratio=True),\n",
    "    dict(\n",
    "        type='Albu',\n",
    "        transforms=albu_train_transforms,\n",
    "        bbox_params=dict(\n",
    "            type='BboxParams',\n",
    "            format='pascal_voc',\n",
    "            label_fields=['gt_bboxes_labels', 'gt_ignore_flags'],\n",
    "            min_visibility=0.0,\n",
    "            filter_lost_elements=True),\n",
    "        keymap={\n",
    "            'img': 'image',\n",
    "            'gt_masks': 'masks',\n",
    "            'gt_bboxes': 'bboxes'\n",
    "        },\n",
    "        skip_img_without_anno=True),\n",
    "    dict(type='RandomFlip', prob=0.5),\n",
    "    dict(type='PackDetInputs')\n",
    "]\n",
    "\n",
    "train_dataloader = dict(\n",
    "    samples_per_gpu=2,\n",
    "    workers_per_gpu=2,\n",
    "    persistent_workers=True,\n",
    "    shuffle=True,\n",
    "    dataset=dict(\n",
    "        type=dataset_type,\n",
    "        ann_file=data_root + 'annotation 파일 경로',\n",
    "        img_prefix=data_root + '이미지 파일 경로. 예시: train2017/',\n",
    "        pipeline=train_pipeline,\n",
    "        backend_args=backend_args))"
   ]
  },
  {
   "cell_type": "markdown",
   "id": "d25c464c",
   "metadata": {},
   "source": [
    "# ---------------------------------------------------------------------------------------------------------------"
   ]
  },
  {
   "cell_type": "code",
   "execution_count": null,
   "id": "af26d796",
   "metadata": {},
   "outputs": [],
   "source": []
  },
  {
   "cell_type": "markdown",
   "id": "96c9de4d",
   "metadata": {},
   "source": [
    "### 3. 파이프라인 정의하기"
   ]
  },
  {
   "cell_type": "code",
   "execution_count": 3,
   "id": "60f00238",
   "metadata": {},
   "outputs": [],
   "source": [
    "# 훈련 데이터 전처리 파이프라인\n",
    "train_pipeline = [\n",
    "    dict(type='LoadImageFromFile'),\n",
    "    dict(type='LoadAnnotations', with_bbox=True),\n",
    "    dict(type='Resize', img_scale=(1333, 800), keep_ratio=True),\n",
    "    dict(type='Pad', size_divisor=32),\n",
    "    \n",
    "    dict(type='Normalize', **img_norm_cfg),\n",
    "    dict(type='DefaultFormatBundle'),\n",
    "    dict(\n",
    "        type='Collect',\n",
    "        keys=['img', 'gt_bboxes', 'gt_labels'],\n",
    "        meta_keys=('filename', 'ori_shape', 'img_shape', 'img_norm_cfg', 'pad_shape', 'scale_factor'))\n",
    "]\n",
    "# 테스트 데이터 전처리 파이프라인\n",
    "test_pipeline = [\n",
    "    dict(type='LoadImageFromFile'),\n",
    "    dict(\n",
    "        type='MultiScaleFlipAug',\n",
    "        img_scale=(1333, 800),\n",
    "        flip=False,\n",
    "        transforms=[\n",
    "            dict(type='Resize', keep_ratio=True),\n",
    "            dict(type='RandomFlip'),\n",
    "            dict(type='Normalize', **img_norm_cfg),\n",
    "            dict(type='Pad', size_divisor=32),\n",
    "            dict(type='ImageToTensor', keys=['img']),\n",
    "            dict(type='Collect', keys=['img']),\n",
    "        ])\n",
    "]"
   ]
  },
  {
   "cell_type": "markdown",
   "id": "05d6a5f0",
   "metadata": {},
   "source": [
    "### 4. 데이터로더 설정하기"
   ]
  },
  {
   "cell_type": "code",
   "execution_count": 6,
   "id": "fd574a9f",
   "metadata": {},
   "outputs": [],
   "source": [
    "train_dataloader = dict(\n",
    "    batch_size=2, # batch size: 한 번에 처리할 데이터 샘플의 개수\n",
    "    num_workers=2, # 데이터 로딩을 병렬화하기 위해 사용되는 워커의 수. 워커는 데이터를 미리 로딩하고 전처리하여 모델에 제공하는 역할을 수행\n",
    "    persistent_workers=True,\n",
    "    sampler=dict(type='DefaultSampler', shuffle=True),\n",
    "    batch_sampler=dict(type='AspectRatioBatchSampler'),\n",
    "    dataset=dict(\n",
    "        type=dataset_type,\n",
    "        data_root=data_root,\n",
    "        ann_file='annotation 파일 경로 쓰기. 예시: annotations/instances_train2017.json',\n",
    "        data_prefix=dict(img='train 이미지 경로 쓰기. 예시: train2017/'),\n",
    "        filter_cfg=dict(filter_empty_gt=True, min_size=32),\n",
    "        pipeline=train_pipeline,\n",
    "        backend_args=backend_args))\n",
    "\n",
    "val_dataloader = dict(\n",
    "    batch_size=1,\n",
    "    num_workers=2,\n",
    "    persistent_workers=True,\n",
    "    drop_last=False, # True로 설정하면 배치 크기에 맞지 않는 마지막 배치를 무시(drop), False로 설정하면 마지막 배치를 유지.\n",
    "    sampler=dict(type='DefaultSampler', shuffle=False), # shuffle=True로 설정하면 데이터를 임의로 섞어서 전달함.\n",
    "    dataset=dict(\n",
    "        type=dataset_type,\n",
    "        data_root=data_root,\n",
    "        ann_file='annotation 파일 경로',\n",
    "        data_prefix=dict(img='validation 이미지 경로 쓰기'),\n",
    "        test_mode=True,\n",
    "        pipeline=test_pipeline,\n",
    "        backend_args=backend_args))\n",
    "\n",
    "test_dataloader = val_dataloader\n"
   ]
  },
  {
   "cell_type": "markdown",
   "id": "9c50f882",
   "metadata": {},
   "source": [
    "### 5. 성능 평가"
   ]
  },
  {
   "cell_type": "code",
   "execution_count": 7,
   "id": "240122f1",
   "metadata": {},
   "outputs": [],
   "source": [
    "val_evaluator = dict(\n",
    "    type='CocoMetric',\n",
    "    ann_file=data_root + 'annotation 파일 경로',\n",
    "    metric='bbox',\n",
    "    format_only=False,\n",
    "    backend_args=backend_args)\n",
    "\n",
    "test_evaluator = val_evaluator"
   ]
  }
 ],
 "metadata": {
  "kernelspec": {
   "display_name": "Python 3 (ipykernel)",
   "language": "python",
   "name": "python3"
  },
  "language_info": {
   "codemirror_mode": {
    "name": "ipython",
    "version": 3
   },
   "file_extension": ".py",
   "mimetype": "text/x-python",
   "name": "python",
   "nbconvert_exporter": "python",
   "pygments_lexer": "ipython3",
   "version": "3.11.2"
  }
 },
 "nbformat": 4,
 "nbformat_minor": 5
}
