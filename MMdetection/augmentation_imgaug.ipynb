{
 "cells": [
  {
   "cell_type": "markdown",
   "id": "8b0fb571",
   "metadata": {},
   "source": [
    "## 1. 라이브러리 로드"
   ]
  },
  {
   "cell_type": "code",
   "execution_count": 12,
   "id": "9c3ae799",
   "metadata": {},
   "outputs": [],
   "source": [
    "import os\n",
    "import cv2\n",
    "import json\n",
    "import imgaug as ia\n",
    "import imgaug.augmenters as iaa\n",
    "\n",
    "from tqdm import tqdm # progress bar 시각화 라이브러리\n",
    "from imgaug import augmenters as iaa\n",
    "from imgaug.augmentables.bbs import BoundingBox, BoundingBoxesOnImage"
   ]
  },
  {
   "cell_type": "markdown",
   "id": "3209737a",
   "metadata": {},
   "source": [
    "## 2. 경로 설정"
   ]
  },
  {
   "cell_type": "code",
   "execution_count": 51,
   "id": "77a41d4b",
   "metadata": {},
   "outputs": [],
   "source": [
    "input_image_path = \"C:\\\\Users\\\\rhoms\\\\businside\\\\bus_passenger\\\\Validation\\\\img_allInOne\"\n",
    "\n",
    "input_json_path = \"data/val.json\"\n",
    "output_image_path = \"data/aug_val_img\"\n",
    "output_json_path = \"data/json\"\n",
    "output_json_path = os.path.join(output_json_path, \"aug_val.json\")\n",
    "\n",
    "# JSON 파일에서 COCO 데이터 불러오기\n",
    "with open(input_json_path, \"r\") as f:\n",
    "    coco_data = json.load(f)"
   ]
  },
  {
   "cell_type": "markdown",
   "id": "5d01fbf4",
   "metadata": {},
   "source": [
    "## 3. 이미지, json 파일 잘 로드되었는지 확인하기"
   ]
  },
  {
   "cell_type": "code",
   "execution_count": 52,
   "id": "7f819c82",
   "metadata": {},
   "outputs": [
    {
     "name": "stdout",
     "output_type": "stream",
     "text": [
      "\n",
      "Image file not found: C:\\Users\\rhoms\\businside\\bus_passenger\\Validation\\img_allInOne\\[district]leave_634C_96.jpg\n",
      "첫 번째 이미지 파일명: [emergency]accident11_087A_0.jpg\n"
     ]
    }
   ],
   "source": [
    "# 이미지 정보 가져오기\n",
    "image_info = coco_data[\"images\"][0]\n",
    "\n",
    "# 이미지 파일 경로 생성\n",
    "image_path = os.path.join(input_image_path, image_info[\"file_name\"])\n",
    "print()\n",
    "# 이미지 파일 읽어오기\n",
    "# Image Shape: (1080, 1920, 3) 이렇게 출력나와야 함\n",
    "if os.path.exists(image_path):\n",
    "    image = cv2.imread(image_path)\n",
    "    if image is not None:\n",
    "        print(\"Image Shape:\", image.shape)\n",
    "    else:\n",
    "        print(\"Failed to read image:\", image_path)\n",
    "else:\n",
    "    print(\"Image file not found:\", image_path)\n",
    "\n",
    "# input_image_path 경로 내 첫 번째 이미지 파일명 가져오기\n",
    "image_files = os.listdir(input_image_path)\n",
    "if image_files:\n",
    "    first_image_filename = image_files[0]\n",
    "    print(\"첫 번째 이미지 파일명:\", first_image_filename)\n",
    "else:\n",
    "    print(\"이미지 파일이 없습니다.\")"
   ]
  },
  {
   "cell_type": "code",
   "execution_count": 53,
   "id": "6000f275",
   "metadata": {},
   "outputs": [],
   "source": [
    "#print(\"coco data: \", coco_data)"
   ]
  },
  {
   "cell_type": "code",
   "execution_count": 54,
   "id": "b8489260",
   "metadata": {},
   "outputs": [
    {
     "name": "stdout",
     "output_type": "stream",
     "text": [
      "{'height': 1080, 'width': 1920, 'id': 1, 'file_name': '[district]leave_634C_96.jpg'}\n"
     ]
    }
   ],
   "source": [
    "image_info = coco_data[\"images\"][0]\n",
    "\n",
    "image_path = os.path.join(input_image_path, image_info[\"file_name\"])\n",
    "image = cv2.imread(image_path)\n",
    "print(image_info)\n"
   ]
  },
  {
   "cell_type": "code",
   "execution_count": 55,
   "id": "4a2db26d",
   "metadata": {},
   "outputs": [
    {
     "name": "stdout",
     "output_type": "stream",
     "text": [
      "Image Path: C:\\Users\\rhoms\\businside\\bus_passenger\\Validation\\img_allInOne\\[district]leave_634C_96.jpg\n",
      "Image: None\n"
     ]
    }
   ],
   "source": [
    "print(\"Image Path:\", image_path)\n",
    "image = cv2.imread(image_path)\n",
    "print(\"Image:\", image)\n",
    "# 이미지 3차원으로 나와야 함"
   ]
  },
  {
   "cell_type": "code",
   "execution_count": 56,
   "id": "b9295dc1",
   "metadata": {},
   "outputs": [],
   "source": [
    "# print(\"Image Width:\", image.shape[1])\n",
    "# print(\"Image Height:\", image.shape[0])"
   ]
  },
  {
   "cell_type": "markdown",
   "id": "c7d1c03e",
   "metadata": {},
   "source": [
    "## 4. Augmentation"
   ]
  },
  {
   "cell_type": "code",
   "execution_count": 57,
   "id": "dd71fdce",
   "metadata": {
    "scrolled": true
   },
   "outputs": [
    {
     "name": "stderr",
     "output_type": "stream",
     "text": [
      "Processing images: 20561it [20:22, 16.82it/s]                                                                          \n"
     ]
    },
    {
     "name": "stdout",
     "output_type": "stream",
     "text": [
      "finish!\n"
     ]
    }
   ],
   "source": [
    "# 증강 기법 설정\n",
    "seq = iaa.Sequential([\n",
    "    iaa.Fliplr(1.0),  # 좌우 반전\n",
    "    iaa.GaussianBlur(sigma=(0, 1.0)),  # 가우시안 블러\n",
    "    iaa.MultiplyBrightness((0.7, 1.3)),  # 밝기 조절\n",
    "    iaa.MultiplySaturation((0.5, 1.5)),  # 채도 조절\n",
    "    iaa.WithChannels(0, iaa.Add((-30, 30))),  # 색상 조정\n",
    "    iaa.ChangeColorspace(from_colorspace=\"HSV\", to_colorspace=\"RGB\"),\n",
    "    iaa.AdditiveGaussianNoise(scale=(0, 0.1 * 255))  # 가우시안 노이즈 추가\n",
    "])\n",
    "\n",
    "# 모든 증강 기법 순차적으로 적용\n",
    "for idx, image_info in tqdm(enumerate(coco_data[\"images\"]), desc=\"Processing images\", total=len(coco_data[\"images\"])):\n",
    "    image_filename = os.path.basename(image_info[\"file_name\"])\n",
    "    image_path = os.path.join(input_image_path, image_filename)\n",
    "    image = cv2.imread(image_path)\n",
    "\n",
    "    if image is None:\n",
    "        continue\n",
    "\n",
    "    annotations = [ann for ann in coco_data[\"annotations\"] if ann[\"image_id\"] == image_info[\"id\"]]\n",
    "\n",
    "    if not annotations:\n",
    "        continue\n",
    "\n",
    "    for i in range(len(seq)):\n",
    "        augmented_image = seq[i](image=image)\n",
    "        \n",
    "        for ann in annotations:\n",
    "            bbox = BoundingBox(x1=ann[\"bbox\"][0], y1=ann[\"bbox\"][1], x2=ann[\"bbox\"][0] + ann[\"bbox\"][2], y2=ann[\"bbox\"][1] + ann[\"bbox\"][3])\n",
    "            augmented_annotations = [bbox]\n",
    "\n",
    "            new_image_info = image_info.copy()\n",
    "            new_image_info[\"file_name\"] = f\"{image_filename.split('.')[0]}_{i+1}.jpg\"\n",
    "            new_image_info[\"id\"] = len(coco_data[\"images\"]) + 1\n",
    "\n",
    "            new_ann = ann.copy()\n",
    "            new_ann[\"bbox\"] = [\n",
    "                augmented_annotations[0].x1,  # x1 좌표\n",
    "                augmented_annotations[0].y1,  # y1 좌표\n",
    "                augmented_annotations[0].x2 - augmented_annotations[0].x1,  # 너비\n",
    "                augmented_annotations[0].y2 - augmented_annotations[0].y1  # 높이\n",
    "            ]\n",
    "\n",
    "            # 중복되지 않은 annotation id 생성\n",
    "            new_annotation_id = ann[\"id\"] + len(coco_data[\"annotations\"])\n",
    "            while new_annotation_id in [ann[\"id\"] for ann in coco_data[\"annotations\"]]:\n",
    "                new_annotation_id += 1\n",
    "            new_ann[\"id\"] = new_annotation_id\n",
    "            new_ann[\"image_id\"] = new_image_info[\"id\"]\n",
    "\n",
    "            coco_data[\"images\"].append(new_image_info)\n",
    "            coco_data[\"annotations\"].append(new_ann)\n",
    "\n",
    "            # 이미지 저장\n",
    "            output_image_file = os.path.join(output_image_path, new_image_info[\"file_name\"])\n",
    "            cv2.imwrite(output_image_file, augmented_image)\n",
    "\n",
    "# 수정된 COCO 데이터 형식을 JSON 파일로 저장\n",
    "with open(output_json_path, \"w\") as f:\n",
    "    json.dump(coco_data, f, indent=4)\n",
    "\n",
    "print(\"finish!\")\n"
   ]
  },
  {
   "cell_type": "code",
   "execution_count": null,
   "id": "fc32cf0f",
   "metadata": {},
   "outputs": [],
   "source": []
  }
 ],
 "metadata": {
  "kernelspec": {
   "display_name": "Python 3 (ipykernel)",
   "language": "python",
   "name": "python3"
  },
  "language_info": {
   "codemirror_mode": {
    "name": "ipython",
    "version": 3
   },
   "file_extension": ".py",
   "mimetype": "text/x-python",
   "name": "python",
   "nbconvert_exporter": "python",
   "pygments_lexer": "ipython3",
   "version": "3.11.2"
  }
 },
 "nbformat": 4,
 "nbformat_minor": 5
}
